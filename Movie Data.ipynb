{
 "cells": [
  {
   "cell_type": "code",
   "execution_count": 1,
   "id": "668ceb43-9166-44a0-9359-c9e9f5c02aff",
   "metadata": {},
   "outputs": [],
   "source": [
    "import pandas as pd\n",
    "from sklearn.model_selection import train_test_split\n",
    "from sklearn.preprocessing import OneHotEncoder\n",
    "from sklearn.ensemble import RandomForestRegressor\n",
    "from sklearn.metrics import mean_squared_error"
   ]
  },
  {
   "cell_type": "code",
   "execution_count": 5,
   "id": "9d10f599-a83e-4fb3-9f76-59b25e62b1e5",
   "metadata": {},
   "outputs": [
    {
     "name": "stdout",
     "output_type": "stream",
     "text": [
      "                                    Name    Year  Duration  \\\n",
      "0     #Gadhvi (He thought he was Gandhi)  2019.0     109.0   \n",
      "1                                #Yaaram  2019.0     110.0   \n",
      "2                   ...Aur Pyaar Ho Gaya  1997.0     147.0   \n",
      "3                              ...Yahaan  2005.0     142.0   \n",
      "4                     ?: A Question Mark  2012.0      82.0   \n",
      "...                                  ...     ...       ...   \n",
      "7914                     Zulm Ki Hukumat  1992.0       NaN   \n",
      "7915                     Zulm Ki Zanjeer  1989.0     125.0   \n",
      "7916                 Zulm Ko Jala Doonga  1988.0       NaN   \n",
      "7917                               Zulmi  1999.0     129.0   \n",
      "7918                        Zulm-O-Sitam  1998.0     130.0   \n",
      "\n",
      "                          Genre  Rating   Votes           Director  \\\n",
      "0                         Drama     7.0     8.0      Gaurav Bakshi   \n",
      "1               Comedy, Romance     4.4    35.0         Ovais Khan   \n",
      "2        Comedy, Drama, Musical     4.7   827.0       Rahul Rawail   \n",
      "3           Drama, Romance, War     7.4  1086.0     Shoojit Sircar   \n",
      "4     Horror, Mystery, Thriller     5.6   326.0      Allyson Patel   \n",
      "...                         ...     ...     ...                ...   \n",
      "7914       Action, Crime, Drama     5.3   135.0  Bharat Rangachary   \n",
      "7915       Action, Crime, Drama     5.8    44.0    S.P. Muthuraman   \n",
      "7916                     Action     4.6    11.0      Mahendra Shah   \n",
      "7917              Action, Drama     4.5   655.0         Kuku Kohli   \n",
      "7918              Action, Drama     6.2    20.0       K.C. Bokadia   \n",
      "\n",
      "               Actor 1                 Actor 2          Actor 3  \n",
      "0         Rasika Dugal          Vivek Ghamande    Arvind Jangid  \n",
      "1              Prateik              Ishita Raj  Siddhant Kapoor  \n",
      "2           Bobby Deol  Aishwarya Rai Bachchan    Shammi Kapoor  \n",
      "3      Jimmy Sheirgill          Minissha Lamba   Yashpal Sharma  \n",
      "4            Yash Dave          Muntazir Ahmad     Kiran Bhatia  \n",
      "...                ...                     ...              ...  \n",
      "7914        Dharmendra     Moushumi Chatterjee          Govinda  \n",
      "7915       Chiranjeevi              Jayamalini      Rajinikanth  \n",
      "7916  Naseeruddin Shah           Sumeet Saigal    Suparna Anand  \n",
      "7917      Akshay Kumar          Twinkle Khanna      Aruna Irani  \n",
      "7918        Dharmendra              Jaya Prada      Arjun Sarja  \n",
      "\n",
      "[7919 rows x 10 columns]\n"
     ]
    }
   ],
   "source": [
    "# Load cleaned dataset\n",
    "df = pd.read_csv(\"C:/Users/sanketsalve/Downloads/cleaned_movie_data.csv\")\n",
    "print(df)"
   ]
  },
  {
   "cell_type": "code",
   "execution_count": 7,
   "id": "617fcc66-0219-4feb-8941-390bcf30f1aa",
   "metadata": {},
   "outputs": [],
   "source": [
    "features = [\"Genre\", \"Director\", \"Actor 1\", \"Actor 2\", \"Actor 3\", \"Year\", \"Duration\", \"Votes\"]\n",
    "target = \"Rating\"\n",
    "\n",
    "X = df[features]\n",
    "y = df[target]\n"
   ]
  },
  {
   "cell_type": "code",
   "execution_count": 11,
   "id": "c5bc6c78-c7a7-4649-b90f-47dd806067d1",
   "metadata": {},
   "outputs": [
    {
     "name": "stderr",
     "output_type": "stream",
     "text": [
      "C:\\Users\\sanketsalve\\anaconda3\\Lib\\site-packages\\sklearn\\preprocessing\\_encoders.py:868: FutureWarning: `sparse` was renamed to `sparse_output` in version 1.2 and will be removed in 1.4. `sparse_output` is ignored unless you leave `sparse` to its default value.\n",
      "  warnings.warn(\n"
     ]
    }
   ],
   "source": [
    "categorical_cols = [\"Genre\", \"Director\", \"Actor 1\", \"Actor 2\", \"Actor 3\"]\n",
    "numerical_cols = [\"Year\", \"Duration\", \"Votes\"]\n",
    "\n",
    "encoder = OneHotEncoder(handle_unknown='ignore', sparse=False)\n",
    "X_cat = encoder.fit_transform(X[categorical_cols])\n",
    "X_num = X[numerical_cols].fillna(0).values"
   ]
  },
  {
   "cell_type": "code",
   "execution_count": 13,
   "id": "be1575ef-d9bd-49cf-9039-9432fe0f0a22",
   "metadata": {},
   "outputs": [],
   "source": [
    "# Combine numeric and encoded categorical data\n",
    "import numpy as np\n",
    "X_final = np.hstack([X_num, X_cat])"
   ]
  },
  {
   "cell_type": "code",
   "execution_count": 15,
   "id": "7924c337-4268-4fb5-9706-44a9908f13c0",
   "metadata": {},
   "outputs": [],
   "source": [
    "# Train-test split\n",
    "X_train, X_test, y_train, y_test = train_test_split(X_final, y, test_size=0.2, random_state=42)"
   ]
  },
  {
   "cell_type": "code",
   "execution_count": 17,
   "id": "4c66df71-c4ce-47b1-8feb-c1be1f09a629",
   "metadata": {},
   "outputs": [
    {
     "data": {
      "text/html": [
       "<style>#sk-container-id-1 {color: black;background-color: white;}#sk-container-id-1 pre{padding: 0;}#sk-container-id-1 div.sk-toggleable {background-color: white;}#sk-container-id-1 label.sk-toggleable__label {cursor: pointer;display: block;width: 100%;margin-bottom: 0;padding: 0.3em;box-sizing: border-box;text-align: center;}#sk-container-id-1 label.sk-toggleable__label-arrow:before {content: \"▸\";float: left;margin-right: 0.25em;color: #696969;}#sk-container-id-1 label.sk-toggleable__label-arrow:hover:before {color: black;}#sk-container-id-1 div.sk-estimator:hover label.sk-toggleable__label-arrow:before {color: black;}#sk-container-id-1 div.sk-toggleable__content {max-height: 0;max-width: 0;overflow: hidden;text-align: left;background-color: #f0f8ff;}#sk-container-id-1 div.sk-toggleable__content pre {margin: 0.2em;color: black;border-radius: 0.25em;background-color: #f0f8ff;}#sk-container-id-1 input.sk-toggleable__control:checked~div.sk-toggleable__content {max-height: 200px;max-width: 100%;overflow: auto;}#sk-container-id-1 input.sk-toggleable__control:checked~label.sk-toggleable__label-arrow:before {content: \"▾\";}#sk-container-id-1 div.sk-estimator input.sk-toggleable__control:checked~label.sk-toggleable__label {background-color: #d4ebff;}#sk-container-id-1 div.sk-label input.sk-toggleable__control:checked~label.sk-toggleable__label {background-color: #d4ebff;}#sk-container-id-1 input.sk-hidden--visually {border: 0;clip: rect(1px 1px 1px 1px);clip: rect(1px, 1px, 1px, 1px);height: 1px;margin: -1px;overflow: hidden;padding: 0;position: absolute;width: 1px;}#sk-container-id-1 div.sk-estimator {font-family: monospace;background-color: #f0f8ff;border: 1px dotted black;border-radius: 0.25em;box-sizing: border-box;margin-bottom: 0.5em;}#sk-container-id-1 div.sk-estimator:hover {background-color: #d4ebff;}#sk-container-id-1 div.sk-parallel-item::after {content: \"\";width: 100%;border-bottom: 1px solid gray;flex-grow: 1;}#sk-container-id-1 div.sk-label:hover label.sk-toggleable__label {background-color: #d4ebff;}#sk-container-id-1 div.sk-serial::before {content: \"\";position: absolute;border-left: 1px solid gray;box-sizing: border-box;top: 0;bottom: 0;left: 50%;z-index: 0;}#sk-container-id-1 div.sk-serial {display: flex;flex-direction: column;align-items: center;background-color: white;padding-right: 0.2em;padding-left: 0.2em;position: relative;}#sk-container-id-1 div.sk-item {position: relative;z-index: 1;}#sk-container-id-1 div.sk-parallel {display: flex;align-items: stretch;justify-content: center;background-color: white;position: relative;}#sk-container-id-1 div.sk-item::before, #sk-container-id-1 div.sk-parallel-item::before {content: \"\";position: absolute;border-left: 1px solid gray;box-sizing: border-box;top: 0;bottom: 0;left: 50%;z-index: -1;}#sk-container-id-1 div.sk-parallel-item {display: flex;flex-direction: column;z-index: 1;position: relative;background-color: white;}#sk-container-id-1 div.sk-parallel-item:first-child::after {align-self: flex-end;width: 50%;}#sk-container-id-1 div.sk-parallel-item:last-child::after {align-self: flex-start;width: 50%;}#sk-container-id-1 div.sk-parallel-item:only-child::after {width: 0;}#sk-container-id-1 div.sk-dashed-wrapped {border: 1px dashed gray;margin: 0 0.4em 0.5em 0.4em;box-sizing: border-box;padding-bottom: 0.4em;background-color: white;}#sk-container-id-1 div.sk-label label {font-family: monospace;font-weight: bold;display: inline-block;line-height: 1.2em;}#sk-container-id-1 div.sk-label-container {text-align: center;}#sk-container-id-1 div.sk-container {/* jupyter's `normalize.less` sets `[hidden] { display: none; }` but bootstrap.min.css set `[hidden] { display: none !important; }` so we also need the `!important` here to be able to override the default hidden behavior on the sphinx rendered scikit-learn.org. See: https://github.com/scikit-learn/scikit-learn/issues/21755 */display: inline-block !important;position: relative;}#sk-container-id-1 div.sk-text-repr-fallback {display: none;}</style><div id=\"sk-container-id-1\" class=\"sk-top-container\"><div class=\"sk-text-repr-fallback\"><pre>RandomForestRegressor(random_state=42)</pre><b>In a Jupyter environment, please rerun this cell to show the HTML representation or trust the notebook. <br />On GitHub, the HTML representation is unable to render, please try loading this page with nbviewer.org.</b></div><div class=\"sk-container\" hidden><div class=\"sk-item\"><div class=\"sk-estimator sk-toggleable\"><input class=\"sk-toggleable__control sk-hidden--visually\" id=\"sk-estimator-id-1\" type=\"checkbox\" checked><label for=\"sk-estimator-id-1\" class=\"sk-toggleable__label sk-toggleable__label-arrow\">RandomForestRegressor</label><div class=\"sk-toggleable__content\"><pre>RandomForestRegressor(random_state=42)</pre></div></div></div></div></div>"
      ],
      "text/plain": [
       "RandomForestRegressor(random_state=42)"
      ]
     },
     "execution_count": 17,
     "metadata": {},
     "output_type": "execute_result"
    }
   ],
   "source": [
    "# Train model\n",
    "model = RandomForestRegressor(n_estimators=100, random_state=42)\n",
    "model.fit(X_train, y_train)"
   ]
  },
  {
   "cell_type": "code",
   "execution_count": 18,
   "id": "9f7ba65c-4746-4ba9-b657-ee6c42fddf88",
   "metadata": {},
   "outputs": [],
   "source": [
    "# Predict and evaluate\n",
    "y_pred = model.predict(X_test)\n",
    "mse = mean_squared_error(y_test, y_pred)"
   ]
  },
  {
   "cell_type": "code",
   "execution_count": 20,
   "id": "a9d2b0ac-47da-4227-8438-d1c2574e7fc3",
   "metadata": {},
   "outputs": [
    {
     "name": "stdout",
     "output_type": "stream",
     "text": [
      "Mean Squared Error: 1.1633902108585856\n"
     ]
    }
   ],
   "source": [
    "print(\"Mean Squared Error:\", mse)"
   ]
  },
  {
   "cell_type": "code",
   "execution_count": null,
   "id": "fba6055e-84ba-424b-9f2e-6a4016ada051",
   "metadata": {},
   "outputs": [],
   "source": []
  }
 ],
 "metadata": {
  "kernelspec": {
   "display_name": "Python 3 (ipykernel)",
   "language": "python",
   "name": "python3"
  },
  "language_info": {
   "codemirror_mode": {
    "name": "ipython",
    "version": 3
   },
   "file_extension": ".py",
   "mimetype": "text/x-python",
   "name": "python",
   "nbconvert_exporter": "python",
   "pygments_lexer": "ipython3",
   "version": "3.11.7"
  }
 },
 "nbformat": 4,
 "nbformat_minor": 5
}
